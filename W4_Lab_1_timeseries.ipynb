{
  "nbformat": 4,
  "nbformat_minor": 0,
  "metadata": {
    "colab": {
      "provenance": [],
      "toc_visible": true,
      "authorship_tag": "ABX9TyNn2RLy/lBa4JiCYlgxZW+t",
      "include_colab_link": true
    },
    "kernelspec": {
      "name": "python3",
      "display_name": "Python 3"
    },
    "language_info": {
      "name": "python"
    }
  },
  "cells": [
    {
      "cell_type": "markdown",
      "metadata": {
        "id": "view-in-github",
        "colab_type": "text"
      },
      "source": [
        "<a href=\"https://colab.research.google.com/github/josephassiga/tensorflow-and-keras-tutorial/blob/main/W4_Lab_1_timeseries.ipynb\" target=\"_parent\"><img src=\"https://colab.research.google.com/assets/colab-badge.svg\" alt=\"Open In Colab\"/></a>"
      ]
    },
    {
      "cell_type": "markdown",
      "source": [
        "# Differents kinds of timeseries\n",
        "\n",
        "A timeseries can be any data obtained via measurements at regular intervals:\n",
        "*   Daily price of a stock\n",
        "*   The hourly electricity consumption of a city\n",
        "*   Weekly sales of a store\n",
        "\n",
        "The mos common timeseries-related task is *forcasting*: predicting what will happen next in a series.\n",
        "\n",
        "This are the differents use case that we can accomplish with a time series problems:\n",
        "* Classification: Assign one or more categorical to a timeseries. Example given timeseries of the activity of visitor, classify whether the visitor is a bot or a human.\n",
        "* Event detection: Identify the occurence of a specific expected event within a continuous data stream.\n",
        "* Anomaly detection: detect anything unusual happening within a continuous datastream.\n",
        "\n"
      ],
      "metadata": {
        "id": "BjwVLV2j8yb4"
      }
    },
    {
      "cell_type": "markdown",
      "source": [
        "# A temperature forcasting example\n",
        "\n",
        "We’ll use this temperature-forecasting task to highlight what makes timeseries data fundamentally different from the kinds of datasets you’ve encountered so far.\n",
        "\n",
        "You’ll see that densely connected networks and convolutional networks aren’t well-equipped to deal with this kind of dataset, while a different kind of machine learning technique—recurrent neural networks (RNNs)—really shines on this type of problem."
      ],
      "metadata": {
        "id": "s9s0JXP2_ITU"
      }
    },
    {
      "cell_type": "code",
      "execution_count": null,
      "metadata": {
        "id": "voCCTZuF7vOr"
      },
      "outputs": [],
      "source": []
    }
  ]
}