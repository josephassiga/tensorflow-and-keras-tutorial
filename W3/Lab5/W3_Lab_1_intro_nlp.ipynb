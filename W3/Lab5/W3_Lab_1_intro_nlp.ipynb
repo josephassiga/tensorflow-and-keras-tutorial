{
  "cells": [
    {
      "cell_type": "markdown",
      "metadata": {
        "id": "view-in-github",
        "colab_type": "text"
      },
      "source": [
        "<a href=\"https://colab.research.google.com/github/josephassiga/tensorflow-and-keras-tutorial/blob/main/W3/Lab5/W3_Lab_1_intro_nlp.ipynb\" target=\"_parent\"><img src=\"https://colab.research.google.com/assets/colab-badge.svg\" alt=\"Open In Colab\"/></a>"
      ]
    },
    {
      "cell_type": "markdown",
      "metadata": {
        "id": "BjwVLV2j8yb4"
      },
      "source": [
        "# Natural Language Processing (NLP)\n",
        "\n",
        "NLP is about: using machine learning and large datasets to\n",
        "give computers the ability not to understand language, which is a more lofty goal, but to ingest a piece of language as input and return something useful, like predicting the following:\n",
        "\n",
        "*  What’s the topic of this text?: text classification.\n",
        "*  Does this text contain abuse?: content filtering.\n",
        "*  Does this text sound positive or negative?: sentiment analysis.\n",
        "*  What should be the next word in this incomplete sentence?: language modeling\n",
        "*  How would you say this in German?: translation.\n",
        "*  How would you summarize this article in one paragraph?” : summarization.\n",
        "\n",
        "\n",
        "\n"
      ]
    },
    {
      "cell_type": "markdown",
      "metadata": {
        "id": "Kn_Y_9Ye8ltW"
      },
      "source": [
        "# Preparing text data\n",
        "\n",
        "Deep learning models, being differentiable functions, can only process numeric tensors: they can’t take raw text as input. Vectorizing text is the process of transforming text into numeric tensors :\n",
        "\n",
        "* First, you standardize the text to make it easier to process, such as by converting it to lowercase or removing punctuation.\n",
        "* You split the text into units (called tokens), such as characters, words, or groups of words. This is called tokenization.\n",
        "* You convert each such token into a numerical vector. This will usually involve\n",
        "first indexing all tokens present in the data.\n",
        "\n",
        "Let's review each of these steps:\n",
        "\n",
        "![From raw text to vectors](https://github.com/josephassiga/tensorflow-and-keras-tutorial/blob/main/W3/Lab5/images/text-vectorization.png?raw=1)"
      ]
    },
    {
      "cell_type": "markdown",
      "source": [
        "# Text Standardization:\n",
        "\n",
        "    One of the simplest and most widespread standardization schemes are:\n",
        "    * Convert to lowercase and remove punctuation characters.\n",
        "    * Convert special characters to a standars form : replacing “é” with “e,” “æ” with “ae,” and so on.\n",
        "\n",
        " # Text Spliting :\n",
        "\n",
        "    Once your text is standardized, you need to break it up into units to be vectorized(tokens), a step called tokenization. You could do this in three different ways:\n",
        "    * Word-level tokenization—Where tokens are space-separated (or punctuationseparated) substrings.\n",
        "    * N-gram tokenization—Where tokens are groups of N consecutive words.\n",
        "    * Character-level tokenization—Where each character is its own token\n",
        "  In general, you’ll always use either **word-level** or **N-gram** tokenization\n"
      ],
      "metadata": {
        "id": "lRWQyoKtAsjO"
      }
    },
    {
      "cell_type": "code",
      "execution_count": 9,
      "metadata": {
        "id": "1a_xztRmY2Ka"
      },
      "outputs": [],
      "source": [
        "from tensorflow import keras\n",
        "from tensorflow.keras import layers\n",
        "from tensorflow.keras.layers import TextVectorization"
      ]
    },
    {
      "cell_type": "markdown",
      "source": [
        "# Preparing the IMDB movie review data"
      ],
      "metadata": {
        "id": "Uju2SYiVJL78"
      }
    },
    {
      "cell_type": "code",
      "source": [
        "! rm -Rf aclImdb\n",
        "!curl -O https://ai.stanford.edu/~amaas/data/sentiment/aclImdb_v1.tar.gz\n",
        "!tar -xf aclImdb_v1.tar.gz\n",
        "! rm -r aclImdb/train/unsup/"
      ],
      "metadata": {
        "colab": {
          "base_uri": "https://localhost:8080/"
        },
        "id": "NS9nlHB3JRM5",
        "outputId": "0c009c98-894a-4f29-8e4a-60b995b51a2f"
      },
      "execution_count": 32,
      "outputs": [
        {
          "output_type": "stream",
          "name": "stdout",
          "text": [
            "  % Total    % Received % Xferd  Average Speed   Time    Time     Time  Current\n",
            "                                 Dload  Upload   Total   Spent    Left  Speed\n",
            "100 80.2M  100 80.2M    0     0  16.4M      0  0:00:04  0:00:04 --:--:-- 19.3M\n"
          ]
        }
      ]
    },
    {
      "cell_type": "code",
      "source": [
        "! cat aclImdb/train/pos/4077_10.txt"
      ],
      "metadata": {
        "colab": {
          "base_uri": "https://localhost:8080/"
        },
        "id": "e-vQhNJBKJRY",
        "outputId": "b3bad4bf-abd8-4529-de3f-f8f1f6bf6e7c"
      },
      "execution_count": 30,
      "outputs": [
        {
          "output_type": "stream",
          "name": "stdout",
          "text": [
            "I first saw this back in the early 90s on UK TV, i did like it then but i missed the chance to tape it, many years passed but the film always stuck with me and i lost hope of seeing it TV again, the main thing that stuck with me was the end, the hole castle part really touched me, its easy to watch, has a great story, great music, the list goes on and on, its OK me saying how good it is but everyone will take there own best bits away with them once they have seen it, yes the animation is top notch and beautiful to watch, it does show its age in a very few parts but that has now become part of it beauty, i am so glad it has came out on DVD as it is one of my top 10 films of all time. Buy it or rent it just see it, best viewing is at night alone with drink and food in reach so you don't have to stop the film.<br /><br />Enjoy"
          ]
        }
      ]
    },
    {
      "cell_type": "code",
      "source": [
        "# Prepare the validation set by setting apart 20% of the training text files in a new directory :\n",
        "\n",
        "import os, pathlib, shutil, random\n",
        "\n",
        "base_dir = os.path.join(\"aclImdb\")\n",
        "val_dir = os.path.join(base_dir, \"val\")\n",
        "train_dir = os.path.join(base_dir, \"train\")\n",
        "\n",
        "for category in ['neg', 'pos']:\n",
        "  dst_dir = os.path.join(val_dir, category)\n",
        "  src_dir = os.path.join(train_dir, category)\n",
        "  os.makedirs(dst_dir)\n",
        "  files = os.listdir(src_dir)\n",
        "  random.Random(1337).shuffle(files)\n",
        "  num_val_samples = int(0.2 * len(files))\n",
        "  val_files = files[-num_val_samples:]\n",
        "  for filename in val_files:\n",
        "    file_src = os.path.join(src_dir, filename)\n",
        "    file_dst = os.path.join(dst_dir,filename)\n",
        "    shutil.move(file_src,file_dst)\n"
      ],
      "metadata": {
        "id": "kaB242KwKcGK"
      },
      "execution_count": 33,
      "outputs": []
    },
    {
      "cell_type": "code",
      "source": [
        "batch_size = 32\n",
        "batch_size = 32\n",
        "\n",
        "train_ds = keras.utils.text_dataset_from_directory(\n",
        " \"aclImdb/train\", batch_size=batch_size\n",
        ")\n",
        "\n",
        "val_ds = keras.utils.text_dataset_from_directory(\n",
        " \"aclImdb/val\", batch_size=batch_size\n",
        ")\n",
        "\n",
        "test_ds = keras.utils.text_dataset_from_directory(\n",
        " \"aclImdb/test\", batch_size=batch_size\n",
        ")"
      ],
      "metadata": {
        "colab": {
          "base_uri": "https://localhost:8080/"
        },
        "id": "zaDUS9VlO8RH",
        "outputId": "b5f5de90-e5fd-4650-b783-4540ba852421"
      },
      "execution_count": 34,
      "outputs": [
        {
          "output_type": "stream",
          "name": "stdout",
          "text": [
            "Found 20000 files belonging to 2 classes.\n",
            "Found 5000 files belonging to 2 classes.\n",
            "Found 25000 files belonging to 2 classes.\n"
          ]
        }
      ]
    },
    {
      "cell_type": "markdown",
      "source": [
        "# Preprocessing our dataset :"
      ],
      "metadata": {
        "id": "Xr9_JlodUpxg"
      }
    },
    {
      "cell_type": "code",
      "source": [
        "# Encode the output tokens as multi-hot binary vectors.\n",
        "text_vectorization = TextVectorization(\n",
        " max_tokens=20000,\n",
        " output_mode=\"multi_hot\",\n",
        ")\n",
        "\n",
        "text_only_train_ds = train_ds.map(lambda x, y: x)\n",
        "text_vectorization.adapt(text_only_train_ds)\n",
        "\n",
        "binary_1gram_train_ds = train_ds.map(\n",
        " lambda x, y: (text_vectorization(x), y),\n",
        " num_parallel_calls=4)\n",
        "\n",
        "binary_1gram_val_ds = val_ds.map(\n",
        " lambda x, y: (text_vectorization(x), y),\n",
        " num_parallel_calls=4)\n",
        "\n",
        "binary_1gram_test_ds = test_ds.map(\n",
        " lambda x, y: (text_vectorization(x), y),\n",
        " num_parallel_calls=4)"
      ],
      "metadata": {
        "id": "6KVSgJ4JUw36"
      },
      "execution_count": 35,
      "outputs": []
    },
    {
      "cell_type": "markdown",
      "source": [
        "# Create the model"
      ],
      "metadata": {
        "id": "V9i6P1m5VyVT"
      }
    },
    {
      "cell_type": "code",
      "source": [
        "def get_model(max_tokens=20000, hidden_dim=16):\n",
        "    inputs = keras.Input(shape=(max_tokens,))\n",
        "    x = layers.Dense(hidden_dim, activation=\"relu\")(inputs)\n",
        "    x = layers.Dropout(0.5)(x)\n",
        "    outputs = layers.Dense(1, activation=\"sigmoid\")(x)\n",
        "    model = keras.Model(inputs, outputs)\n",
        "\n",
        "    model.compile(optimizer=\"rmsprop\",loss=\"binary_crossentropy\",metrics=[\"accuracy\"])\n",
        "    return model\n",
        "\n",
        "def get_model_sequential(max_tokens=20000, hidden_dim=16):\n",
        "   model =  keras.Sequential([\n",
        "        keras.layers.Dense(hidden_dim, activation=\"relu\", input_shape=(max_tokens,)),\n",
        "        keras.layers.Dropout(0.5),\n",
        "        keras.layers.Dense(1, activation=\"sigmoid\")\n",
        "    ])\n",
        "\n",
        "   model.compile(optimizer=\"rmsprop\",loss=\"binary_crossentropy\",metrics=[\"accuracy\"])\n",
        "   return model\n"
      ],
      "metadata": {
        "id": "0-p_SnLlV1wD"
      },
      "execution_count": 36,
      "outputs": []
    },
    {
      "cell_type": "markdown",
      "source": [
        "# Training and testing the binary unigram model"
      ],
      "metadata": {
        "id": "2fgoHj_GW1hk"
      }
    },
    {
      "cell_type": "code",
      "source": [
        "model = get_model()\n",
        "model.summary()\n",
        "\n",
        "callbacks = [\n",
        " keras.callbacks.ModelCheckpoint(\"binary_1gram.keras\",\n",
        " save_best_only=True)\n",
        "]\n",
        "\n",
        "history = model.fit(binary_1gram_train_ds.cache(),\n",
        "validation_data=binary_1gram_val_ds.cache(),\n",
        " epochs=10,\n",
        " callbacks=callbacks)\n",
        "\n",
        "model = keras.models.load_model(\"binary_1gram.keras\")\n",
        "\n",
        "print(f\"Test acc: {model.evaluate(binary_1gram_test_ds)[1]:.3f}\")"
      ],
      "metadata": {
        "colab": {
          "base_uri": "https://localhost:8080/"
        },
        "id": "YauI6JQEW6ZO",
        "outputId": "ae7d0281-1ef9-4eaa-f361-857777efcf88"
      },
      "execution_count": 38,
      "outputs": [
        {
          "output_type": "stream",
          "name": "stdout",
          "text": [
            "Model: \"model_1\"\n",
            "_________________________________________________________________\n",
            " Layer (type)                Output Shape              Param #   \n",
            "=================================================================\n",
            " input_2 (InputLayer)        [(None, 20000)]           0         \n",
            "                                                                 \n",
            " dense_2 (Dense)             (None, 16)                320016    \n",
            "                                                                 \n",
            " dropout_1 (Dropout)         (None, 16)                0         \n",
            "                                                                 \n",
            " dense_3 (Dense)             (None, 1)                 17        \n",
            "                                                                 \n",
            "=================================================================\n",
            "Total params: 320033 (1.22 MB)\n",
            "Trainable params: 320033 (1.22 MB)\n",
            "Non-trainable params: 0 (0.00 Byte)\n",
            "_________________________________________________________________\n",
            "Epoch 1/10\n",
            "625/625 [==============================] - 9s 13ms/step - loss: 0.4120 - accuracy: 0.8278 - val_loss: 0.2798 - val_accuracy: 0.8900\n",
            "Epoch 2/10\n",
            "625/625 [==============================] - 5s 7ms/step - loss: 0.2740 - accuracy: 0.8990 - val_loss: 0.2798 - val_accuracy: 0.8934\n",
            "Epoch 3/10\n",
            "625/625 [==============================] - 4s 7ms/step - loss: 0.2404 - accuracy: 0.9136 - val_loss: 0.2865 - val_accuracy: 0.8968\n",
            "Epoch 4/10\n",
            "625/625 [==============================] - 5s 8ms/step - loss: 0.2265 - accuracy: 0.9220 - val_loss: 0.2990 - val_accuracy: 0.8942\n",
            "Epoch 5/10\n",
            "625/625 [==============================] - 4s 7ms/step - loss: 0.2164 - accuracy: 0.9272 - val_loss: 0.3114 - val_accuracy: 0.8938\n",
            "Epoch 6/10\n",
            "625/625 [==============================] - 6s 9ms/step - loss: 0.2081 - accuracy: 0.9307 - val_loss: 0.3241 - val_accuracy: 0.8904\n",
            "Epoch 7/10\n",
            "625/625 [==============================] - 5s 8ms/step - loss: 0.2076 - accuracy: 0.9324 - val_loss: 0.3324 - val_accuracy: 0.8924\n",
            "Epoch 8/10\n",
            "625/625 [==============================] - 6s 10ms/step - loss: 0.2076 - accuracy: 0.9341 - val_loss: 0.3424 - val_accuracy: 0.8902\n",
            "Epoch 9/10\n",
            "625/625 [==============================] - 8s 14ms/step - loss: 0.2051 - accuracy: 0.9365 - val_loss: 0.3494 - val_accuracy: 0.8850\n",
            "Epoch 10/10\n",
            "625/625 [==============================] - 5s 8ms/step - loss: 0.1974 - accuracy: 0.9363 - val_loss: 0.3557 - val_accuracy: 0.8864\n",
            "782/782 [==============================] - 5s 6ms/step - loss: 0.2902 - accuracy: 0.8860\n",
            "Test acc: 0.886\n"
          ]
        }
      ]
    },
    {
      "cell_type": "code",
      "source": [
        "import matplotlib.pyplot as plt\n",
        "\n",
        "def show_accuracy_graph():\n",
        "  loss = history.history[\"accuracy\"]\n",
        "  val_loss = history.history[\"val_accuracy\"]\n",
        "  epochs = range(1, len(loss) + 1)\n",
        "  plt.figure()\n",
        "  plt.plot(epochs, loss, \"bo\", label=\"Training Accuracy\")\n",
        "  plt.plot(epochs, val_loss, \"b\", label=\"Validation Accuracy\")\n",
        "  plt.title(\"Training and validation Accuract\")\n",
        "  plt.legend()\n",
        "  plt.show()"
      ],
      "metadata": {
        "id": "C7oBQzvoaTy3"
      },
      "execution_count": 43,
      "outputs": []
    },
    {
      "cell_type": "code",
      "source": [
        "show_accuracy_graph()"
      ],
      "metadata": {
        "colab": {
          "base_uri": "https://localhost:8080/",
          "height": 452
        },
        "id": "eCJWbjLtXnJs",
        "outputId": "7dd74e78-1e5c-44fb-84ba-d3c9167a7bf9"
      },
      "execution_count": 39,
      "outputs": [
        {
          "output_type": "display_data",
          "data": {
            "text/plain": [
              "<Figure size 640x480 with 1 Axes>"
            ],
            "image/png": "[encoded data removed]"
          },
          "metadata": {}
        }
      ]
    },
    {
      "cell_type": "markdown",
      "source": [
        "# BIGRAMS WITH BINARY ENCODING"
      ],
      "metadata": {
        "id": "fRoNnd7-ZABx"
      }
    },
    {
      "cell_type": "code",
      "source": [
        "text_vectorization = TextVectorization(\n",
        " ngrams=2,\n",
        " max_tokens=20000,\n",
        " output_mode=\"multi_hot\",\n",
        ")\n",
        "\n",
        "text_vectorization.adapt(text_only_train_ds)\n",
        "\n",
        "binary_2gram_train_ds = train_ds.map(\n",
        " lambda x, y: (text_vectorization(x), y),\n",
        " num_parallel_calls=4)\n",
        "\n",
        "binary_2gram_val_ds = val_ds.map(\n",
        " lambda x, y: (text_vectorization(x), y),\n",
        " num_parallel_calls=4)\n",
        "\n",
        "binary_2gram_test_ds = test_ds.map(\n",
        " lambda x, y: (text_vectorization(x), y),\n",
        " num_parallel_calls=4)\n",
        "\n",
        "model = get_model()\n",
        "model.summary()\n",
        "\n",
        "callbacks = [\n",
        " keras.callbacks.ModelCheckpoint(\"binary_2gram.keras\",\n",
        " save_best_only=True)\n",
        "]\n",
        "\n",
        "history = model.fit(binary_2gram_train_ds.cache(),\n",
        " validation_data=binary_2gram_val_ds.cache(),\n",
        " epochs=10,\n",
        " callbacks=callbacks)\n",
        "\n",
        "model = keras.models.load_model(\"binary_2gram.keras\")\n",
        "\n",
        "print(f\"Test acc: {model.evaluate(binary_2gram_test_ds)[1]:.3f}\")"
      ],
      "metadata": {
        "id": "gniIGeXUZGCE",
        "outputId": "1e718e20-f5cd-4b0f-fb48-92b2266192e3",
        "colab": {
          "base_uri": "https://localhost:8080/"
        }
      },
      "execution_count": 40,
      "outputs": [
        {
          "output_type": "stream",
          "name": "stdout",
          "text": [
            "Model: \"model_2\"\n",
            "_________________________________________________________________\n",
            " Layer (type)                Output Shape              Param #   \n",
            "=================================================================\n",
            " input_3 (InputLayer)        [(None, 20000)]           0         \n",
            "                                                                 \n",
            " dense_4 (Dense)             (None, 16)                320016    \n",
            "                                                                 \n",
            " dropout_2 (Dropout)         (None, 16)                0         \n",
            "                                                                 \n",
            " dense_5 (Dense)             (None, 1)                 17        \n",
            "                                                                 \n",
            "=================================================================\n",
            "Total params: 320033 (1.22 MB)\n",
            "Trainable params: 320033 (1.22 MB)\n",
            "Non-trainable params: 0 (0.00 Byte)\n",
            "_________________________________________________________________\n",
            "Epoch 1/10\n",
            "625/625 [==============================] - 11s 17ms/step - loss: 0.3761 - accuracy: 0.8411 - val_loss: 0.2570 - val_accuracy: 0.9016\n",
            "Epoch 2/10\n",
            "625/625 [==============================] - 5s 8ms/step - loss: 0.2381 - accuracy: 0.9155 - val_loss: 0.2764 - val_accuracy: 0.8982\n",
            "Epoch 3/10\n",
            "625/625 [==============================] - 7s 10ms/step - loss: 0.2057 - accuracy: 0.9344 - val_loss: 0.2820 - val_accuracy: 0.9012\n",
            "Epoch 4/10\n",
            "625/625 [==============================] - 4s 7ms/step - loss: 0.1806 - accuracy: 0.9448 - val_loss: 0.3122 - val_accuracy: 0.8972\n",
            "Epoch 5/10\n",
            "625/625 [==============================] - 5s 8ms/step - loss: 0.1708 - accuracy: 0.9473 - val_loss: 0.3242 - val_accuracy: 0.8984\n",
            "Epoch 6/10\n",
            "625/625 [==============================] - 5s 9ms/step - loss: 0.1674 - accuracy: 0.9513 - val_loss: 0.3277 - val_accuracy: 0.8976\n",
            "Epoch 7/10\n",
            "625/625 [==============================] - 6s 10ms/step - loss: 0.1639 - accuracy: 0.9545 - val_loss: 0.3407 - val_accuracy: 0.8966\n",
            "Epoch 8/10\n",
            "625/625 [==============================] - 5s 7ms/step - loss: 0.1612 - accuracy: 0.9565 - val_loss: 0.3614 - val_accuracy: 0.8896\n",
            "Epoch 9/10\n",
            "625/625 [==============================] - 4s 7ms/step - loss: 0.1539 - accuracy: 0.9592 - val_loss: 0.3715 - val_accuracy: 0.8884\n",
            "Epoch 10/10\n",
            "625/625 [==============================] - 4s 7ms/step - loss: 0.1498 - accuracy: 0.9599 - val_loss: 0.3817 - val_accuracy: 0.8924\n",
            "782/782 [==============================] - 5s 7ms/step - loss: 0.2628 - accuracy: 0.9000\n",
            "Test acc: 0.900\n"
          ]
        }
      ]
    },
    {
      "cell_type": "code",
      "source": [
        "show_accuracy_graph()"
      ],
      "metadata": {
        "id": "kK83eiRQaLgB",
        "outputId": "b6fa9959-02bd-4aa0-8ef9-6fdc161c3b62",
        "colab": {
          "base_uri": "https://localhost:8080/",
          "height": 452
        }
      },
      "execution_count": 44,
      "outputs": [
        {
          "output_type": "display_data",
          "data": {
            "text/plain": [
              "<Figure size 640x480 with 1 Axes>"
            ],
            "image/png": "[encoded data removed]"
          },
          "metadata": {}
        }
      ]
    },
    {
      "cell_type": "markdown",
      "source": [
        "# BIGRAMS WITH TF-IDF ENCODING"
      ],
      "metadata": {
        "id": "JlXWo2LsadW_"
      }
    },
    {
      "cell_type": "code",
      "source": [
        "text_vectorization = TextVectorization(\n",
        " ngrams=2,\n",
        " max_tokens=20000,\n",
        " output_mode=\"tf_idf\"\n",
        ")\n",
        "\n",
        "text_vectorization.adapt(text_only_train_ds)\n",
        "\n",
        "tfidf_2gram_train_ds = train_ds.map(\n",
        " lambda x, y: (text_vectorization(x), y),\n",
        " num_parallel_calls=4)\n",
        "\n",
        "tfidf_2gram_val_ds = val_ds.map(\n",
        " lambda x, y: (text_vectorization(x), y),\n",
        " num_parallel_calls=4)\n",
        "\n",
        "tfidf_2gram_test_ds = test_ds.map(\n",
        " lambda x, y: (text_vectorization(x), y),\n",
        " num_parallel_calls=4)\n",
        "\n",
        "model = get_model()\n",
        "model.summary()\n",
        "\n",
        "callbacks = [\n",
        " keras.callbacks.ModelCheckpoint(\"tfidf_2gram.keras\",\n",
        " save_best_only=True)\n",
        "]\n",
        "\n",
        "history = model.fit(tfidf_2gram_train_ds.cache(),\n",
        " validation_data=tfidf_2gram_val_ds.cache(),\n",
        " epochs=10,\n",
        " callbacks=callbacks)\n",
        "\n",
        "model = keras.models.load_model(\"tfidf_2gram.keras\")\n",
        "\n",
        "print(f\"Test acc: {model.evaluate(tfidf_2gram_test_ds)[1]:.3f}\")\n",
        "\n",
        "show_accuracy_graph()"
      ],
      "metadata": {
        "id": "uCtfTR-rag5y",
        "outputId": "075793a3-2385-4d41-ec46-768a40ffd51c",
        "colab": {
          "base_uri": "https://localhost:8080/",
          "height": 1000
        }
      },
      "execution_count": 45,
      "outputs": [
        {
          "output_type": "stream",
          "name": "stdout",
          "text": [
            "Model: \"model_3\"\n",
            "_________________________________________________________________\n",
            " Layer (type)                Output Shape              Param #   \n",
            "=================================================================\n",
            " input_4 (InputLayer)        [(None, 20000)]           0         \n",
            "                                                                 \n",
            " dense_6 (Dense)             (None, 16)                320016    \n",
            "                                                                 \n",
            " dropout_3 (Dropout)         (None, 16)                0         \n",
            "                                                                 \n",
            " dense_7 (Dense)             (None, 1)                 17        \n",
            "                                                                 \n",
            "=================================================================\n",
            "Total params: 320033 (1.22 MB)\n",
            "Trainable params: 320033 (1.22 MB)\n",
            "Non-trainable params: 0 (0.00 Byte)\n",
            "_________________________________________________________________\n",
            "Epoch 1/10\n",
            "625/625 [==============================] - 10s 15ms/step - loss: 0.5464 - accuracy: 0.7491 - val_loss: 0.3100 - val_accuracy: 0.8922\n",
            "Epoch 2/10\n",
            "625/625 [==============================] - 5s 8ms/step - loss: 0.3623 - accuracy: 0.8523 - val_loss: 0.2863 - val_accuracy: 0.8982\n",
            "Epoch 3/10\n",
            "625/625 [==============================] - 4s 6ms/step - loss: 0.3274 - accuracy: 0.8719 - val_loss: 0.2892 - val_accuracy: 0.8824\n",
            "Epoch 4/10\n",
            "625/625 [==============================] - 5s 8ms/step - loss: 0.2908 - accuracy: 0.8849 - val_loss: 0.2866 - val_accuracy: 0.8952\n",
            "Epoch 5/10\n",
            "625/625 [==============================] - 5s 7ms/step - loss: 0.2781 - accuracy: 0.8939 - val_loss: 0.3041 - val_accuracy: 0.8868\n",
            "Epoch 6/10\n",
            "625/625 [==============================] - 5s 8ms/step - loss: 0.2645 - accuracy: 0.8999 - val_loss: 0.3128 - val_accuracy: 0.8794\n",
            "Epoch 7/10\n",
            "625/625 [==============================] - 4s 7ms/step - loss: 0.2521 - accuracy: 0.9062 - val_loss: 0.3285 - val_accuracy: 0.8796\n",
            "Epoch 8/10\n",
            "625/625 [==============================] - 5s 8ms/step - loss: 0.2530 - accuracy: 0.9040 - val_loss: 0.3463 - val_accuracy: 0.8762\n",
            "Epoch 9/10\n",
            "625/625 [==============================] - 5s 8ms/step - loss: 0.2357 - accuracy: 0.9139 - val_loss: 0.3700 - val_accuracy: 0.8690\n",
            "Epoch 10/10\n",
            "625/625 [==============================] - 4s 7ms/step - loss: 0.2375 - accuracy: 0.9136 - val_loss: 0.3714 - val_accuracy: 0.8762\n",
            "782/782 [==============================] - 7s 9ms/step - loss: 0.3064 - accuracy: 0.8876\n",
            "Test acc: 0.888\n"
          ]
        },
        {
          "output_type": "display_data",
          "data": {
            "text/plain": [
              "<Figure size 640x480 with 1 Axes>"
            ],
            "image/png": "[encoded data removed]"
          },
          "metadata": {}
        }
      ]
    }
  ],
  "metadata": {
    "colab": {
      "provenance": [],
      "toc_visible": true,
      "include_colab_link": true
    },
    "kernelspec": {
      "display_name": "Python 3",
      "name": "python3"
    },
    "language_info": {
      "name": "python"
    }
  },
  "nbformat": 4,
  "nbformat_minor": 0
}