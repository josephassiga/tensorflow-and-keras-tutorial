{
  "nbformat": 4,
  "nbformat_minor": 0,
  "metadata": {
    "colab": {
      "provenance": [],
      "authorship_tag": "ABX9TyPYunkpKOYIxIxGp9l24HfG",
      "include_colab_link": true
    },
    "kernelspec": {
      "name": "python3",
      "display_name": "Python 3"
    },
    "language_info": {
      "name": "python"
    }
  },
  "cells": [
    {
      "cell_type": "markdown",
      "metadata": {
        "id": "view-in-github",
        "colab_type": "text"
      },
      "source": [
        "<a href=\"https://colab.research.google.com/github/josephassiga/tensorflow-and-keras-tutorial/blob/main/W4/Lab5/W4_Lab_1_intro_timeseries.ipynb\" target=\"_parent\"><img src=\"https://colab.research.google.com/assets/colab-badge.svg\" alt=\"Open In Colab\"/></a>"
      ]
    },
    {
      "cell_type": "markdown",
      "source": [
        "# Differents kinds of timeseries\n",
        "\n",
        "A timeseries can be any data obtained via measurements at regular intervals:\n",
        "*   Daily price of a stock\n",
        "*   The hourly electricity consumption of a city\n",
        "*   Weekly sales of a store\n",
        "\n",
        "The mos common timeseries-related task is *forcasting*: predicting what will happen next in a series.\n",
        "\n",
        "This are the differents use case that we can accomplish with a time series problems:\n",
        "* Classification: Assign one or more categorical to a timeseries. Example given timeseries of the activity of visitor, classify whether the visitor is a bot or a human.\n",
        "* Event detection: Identify the occurence of a specific expected event within a continuous data stream.\n",
        "* Anomaly detection: detect anything unusual happening within a continuous datastream.\n",
        "\n"
      ],
      "metadata": {
        "id": "BjwVLV2j8yb4"
      }
    },
    {
      "cell_type": "markdown",
      "source": [
        "# A temperature forcasting example\n",
        "\n",
        "We’ll use this temperature-forecasting task to highlight what makes timeseries data fundamentally different from the kinds of datasets you’ve encountered so far.\n",
        "\n",
        "You’ll see that densely connected networks and convolutional networks aren’t well-equipped to deal with this kind of dataset, while a different kind of machine learning technique—recurrent neural networks (RNNs)—really shines on this type of problem."
      ],
      "metadata": {
        "id": "s9s0JXP2_ITU"
      }
    },
    {
      "cell_type": "markdown",
      "source": [
        "We’ll work with a weather timeseries dataset recorded at the weather station at the\n",
        "Max Planck Institute for Biogeochemistry in Jena, Germany.1\n",
        " In this dataset, 14 different quantities (such as temperature, pressure, humidity, wind direction, and so on)\n",
        "were recorded every 10 minutes over several years. The original data goes back to\n",
        "2003, but the subset of the data we’ll download is limited to 2009–2016.\n",
        " Let’s start by downloading and uncompressing the data:"
      ],
      "metadata": {
        "id": "89pOFKZlAByd"
      }
    },
    {
      "cell_type": "code",
      "execution_count": null,
      "metadata": {
        "id": "voCCTZuF7vOr",
        "colab": {
          "base_uri": "https://localhost:8080/"
        },
        "outputId": "875c4b6f-527a-47f5-ab51-ec313651b085"
      },
      "outputs": [
        {
          "output_type": "stream",
          "name": "stdout",
          "text": [
            "--2024-04-01 00:16:22--  https://s3.amazonaws.com/keras-datasets/jena_climate_2009_2016.csv.zip\n",
            "Resolving s3.amazonaws.com (s3.amazonaws.com)... 52.216.215.48, 52.217.170.152, 52.216.37.120, ...\n",
            "Connecting to s3.amazonaws.com (s3.amazonaws.com)|52.216.215.48|:443... connected.\n",
            "HTTP request sent, awaiting response... 200 OK\n",
            "Length: 13565642 (13M) [application/zip]\n",
            "Saving to: ‘jena_climate_2009_2016.csv.zip’\n",
            "\n",
            "jena_climate_2009_2 100%[===================>]  12.94M  23.3MB/s    in 0.6s    \n",
            "\n",
            "2024-04-01 00:16:23 (23.3 MB/s) - ‘jena_climate_2009_2016.csv.zip’ saved [13565642/13565642]\n",
            "\n",
            "Archive:  jena_climate_2009_2016.csv.zip\n",
            "  inflating: jena_climate_2009_2016.csv  \n",
            "  inflating: __MACOSX/._jena_climate_2009_2016.csv  \n"
          ]
        }
      ],
      "source": [
        "!wget https://s3.amazonaws.com/keras-datasets/jena_climate_2009_2016.csv.zip\n",
        "!unzip jena_climate_2009_2016.csv.zip"
      ]
    },
    {
      "cell_type": "markdown",
      "source": [
        "Now inspecting the data of the Jena weather dataset"
      ],
      "metadata": {
        "id": "b7qMN9hXBPMm"
      }
    },
    {
      "cell_type": "code",
      "source": [
        "import os\n",
        "\n",
        "filename = os.path.join(\"jena_climate_2009_2016.csv\")\n",
        "\n",
        "with open(filename) as f:\n",
        "  data = f.read()\n",
        "\n",
        "# Retrieve all the content of the file.\n",
        "lines = data.split(\"\\n\")\n",
        "# Get the header of the file.\n",
        "header = lines[0].split(\",\")\n",
        "# Get other line execpt the header line.\n",
        "lines = lines[1:]\n",
        "print(f\"Header : {header}\")\n",
        "print(f\"Size of the file : {len(lines)}\")\n",
        "print(lines[0].split(\",\")[:])"
      ],
      "metadata": {
        "id": "FjUQyZAGBV4H",
        "outputId": "a712257c-9632-4804-d415-59b1585092eb",
        "colab": {
          "base_uri": "https://localhost:8080/"
        }
      },
      "execution_count": 31,
      "outputs": [
        {
          "output_type": "stream",
          "name": "stdout",
          "text": [
            "Header : ['\"Date Time\"', '\"p (mbar)\"', '\"T (degC)\"', '\"Tpot (K)\"', '\"Tdew (degC)\"', '\"rh (%)\"', '\"VPmax (mbar)\"', '\"VPact (mbar)\"', '\"VPdef (mbar)\"', '\"sh (g/kg)\"', '\"H2OC (mmol/mol)\"', '\"rho (g/m**3)\"', '\"wv (m/s)\"', '\"max. wv (m/s)\"', '\"wd (deg)\"']\n",
            "Size of the file : 420451\n",
            "['01.01.2009 00:10:00', '996.52', '-8.02', '265.40', '-8.90', '93.30', '3.33', '3.11', '0.22', '1.94', '3.12', '1307.75', '1.03', '1.75', '152.30']\n"
          ]
        }
      ]
    },
    {
      "cell_type": "markdown",
      "source": [
        "# Parsing the data"
      ],
      "metadata": {
        "id": "GYPeSgRoCbJW"
      }
    },
    {
      "cell_type": "code",
      "source": [
        "import numpy as np\n",
        "from matplotlib import pyplot as plt\n",
        "\n",
        "temperature = np.zeros(len(lines))\n",
        "raw_data = np.zeros((len(lines), len(header) - 1))\n",
        "for i, line in enumerate(lines):\n",
        "  # For each line, i will only take data exacpt the Date Time\n",
        "  values = [float(x) for x in line.split(\",\")[1:]]\n",
        "  # We store column 1 in the temperature array\n",
        "  temperature[i] = values[1]\n",
        "  # We store all columns(including the temperature) in the raw_data\n",
        "  raw_data[i,:] = values[:]\n",
        "\n",
        "print(raw_data[0])\n",
        "plt.plot(range(len(temperature)), temperature)"
      ],
      "metadata": {
        "id": "PN9CGPuSCer_",
        "outputId": "257cdda9-9381-4789-a6ff-abb4f2b752e4",
        "colab": {
          "base_uri": "https://localhost:8080/",
          "height": 503
        }
      },
      "execution_count": 33,
      "outputs": [
        {
          "output_type": "stream",
          "name": "stdout",
          "text": [
            "[ 9.96520e+02 -8.02000e+00  2.65400e+02 -8.90000e+00  9.33000e+01\n",
            "  3.33000e+00  3.11000e+00  2.20000e-01  1.94000e+00  3.12000e+00\n",
            "  1.30775e+03  1.03000e+00  1.75000e+00  1.52300e+02]\n"
          ]
        },
        {
          "output_type": "execute_result",
          "data": {
            "text/plain": [
              "[<matplotlib.lines.Line2D at 0x7a0989514fd0>]"
            ]
          },
          "metadata": {},
          "execution_count": 33
        },
        {
          "output_type": "display_data",
          "data": {
            "text/plain": [
              "<Figure size 640x480 with 1 Axes>"
            ],
            "image/png": "[encoded data removed]"
          },
          "metadata": {}
        }
      ]
    },
    {
      "cell_type": "markdown",
      "source": [
        "Computing the number of samples we’ll use for each data split"
      ],
      "metadata": {
        "id": "XoddzB6LEjIX"
      }
    },
    {
      "cell_type": "code",
      "source": [
        "num_train_samples = int(0.5 * len(raw_data))\n",
        "num_val_samples = int(0.25 * len(raw_data))\n",
        "num_test_samples = len(raw_data) - num_train_samples - num_val_samples\n",
        "\n",
        "print(\"num_train_samples:\", num_train_samples)\n",
        "print(\"num_val_samples:\", num_val_samples)\n",
        "print(\"num_test_samples:\", num_test_samples)"
      ],
      "metadata": {
        "id": "jZ6x--p_Em1Z",
        "outputId": "221fbce0-761c-4e39-e200-726c47d075a4",
        "colab": {
          "base_uri": "https://localhost:8080/"
        }
      },
      "execution_count": 34,
      "outputs": [
        {
          "output_type": "stream",
          "name": "stdout",
          "text": [
            "num_train_samples: 210225\n",
            "num_val_samples: 105112\n",
            "num_test_samples: 105114\n"
          ]
        }
      ]
    },
    {
      "cell_type": "markdown",
      "source": [
        "# Preparing the data\n",
        "The exact formulation of the problem will be as follows: given data covering the previous five days and sampled once per hour, can we predict the temperature in 24 hours?\n",
        "\n",
        " First, let’s preprocess the data to a format a neural network can ingest. This is\n",
        "easy: the data is already numerical, so you don’t need to do any vectorization. But\n",
        "each timeseries in the data is on a different scale (for example, atmospheric pressure, measured in mbar, is around 1,000, while H2OC, measured in millimoles per\n",
        "mole, is around 3). We’ll normalize each timeseries independently so that they all\n",
        "take small values on a similar scale. We’re going to use the first 210,225 timesteps as\n",
        "training data, so we’ll compute the mean and standard deviation only on this fraction of the data\n"
      ],
      "metadata": {
        "id": "lFbB9xYlE6uP"
      }
    },
    {
      "cell_type": "code",
      "source": [
        "mean = raw_data[:num_train_samples].mean(axis=0)\n",
        "raw_data -= mean\n",
        "std = raw_data[:num_train_samples].std(axis=0)\n",
        "raw_data /= std"
      ],
      "metadata": {
        "id": "f_R140tBFAfz"
      },
      "execution_count": 35,
      "outputs": []
    },
    {
      "cell_type": "markdown",
      "source": [
        "Instantiating datasets for training, validation and testing"
      ],
      "metadata": {
        "id": "vBwK1MzHK1_n"
      }
    },
    {
      "cell_type": "code",
      "source": [
        "from tensorflow import keras\n",
        "\n",
        "sampling_rate = 6\n",
        "sequence_length = 120\n",
        "delay = sampling_rate * (sequence_length + 24 - 1)\n",
        "batch_size = 256\n",
        "\n",
        "train_dataset = keras.utils.timeseries_dataset_from_array(\n",
        " raw_data[:-delay],\n",
        " targets=temperature[delay:],\n",
        " sampling_rate=sampling_rate,\n",
        " sequence_length=sequence_length,\n",
        " shuffle=True,\n",
        " batch_size=batch_size,\n",
        " start_index=0,\n",
        " end_index=num_train_samples)\n",
        "\n",
        "val_dataset = keras.utils.timeseries_dataset_from_array(\n",
        " raw_data[:-delay],\n",
        " targets=temperature[delay:],\n",
        " sampling_rate=sampling_rate,\n",
        " sequence_length=sequence_length,\n",
        " shuffle=True,\n",
        " batch_size=batch_size,\n",
        " start_index=num_train_samples,\n",
        " end_index=num_train_samples + num_val_samples)\n",
        "\n",
        "test_dataset = keras.utils.timeseries_dataset_from_array(\n",
        " raw_data[:-delay],\n",
        " targets=temperature[delay:],\n",
        " sampling_rate=sampling_rate,\n",
        " sequence_length=sequence_length,\n",
        " shuffle=True,\n",
        " batch_size=batch_size,\n",
        " start_index=num_train_samples + num_val_samples)\n",
        "\n",
        "for samples, targets in train_dataset:\n",
        "    print(\"samples shape:\", samples.shape)\n",
        "    print(\"targets shape:\", targets.shape)\n",
        "    break"
      ],
      "metadata": {
        "id": "IYDASWTjK7NK",
        "outputId": "e05df51a-4ca3-496a-fc84-68634d5170e8",
        "colab": {
          "base_uri": "https://localhost:8080/"
        }
      },
      "execution_count": 39,
      "outputs": [
        {
          "output_type": "stream",
          "name": "stdout",
          "text": [
            "samples shape: (256, 120, 14)\n",
            "targets shape: (256,)\n"
          ]
        }
      ]
    },
    {
      "cell_type": "markdown",
      "source": [
        "Training and evaluating a densely connected model"
      ],
      "metadata": {
        "id": "mx--tXgALscD"
      }
    },
    {
      "cell_type": "code",
      "source": [
        "from tensorflow import keras\n",
        "from tensorflow.keras import layers\n",
        "\n",
        "inputs = keras.Input(shape=(sequence_length, raw_data.shape[-1]))\n",
        "x = layers.Flatten()(inputs)\n",
        "x = layers.Dense(16, activation=\"relu\")(x)\n",
        "outputs = layers.Dense(1)(x)\n",
        "model = keras.Model(inputs, outputs)\n",
        "\n",
        "\n",
        "\n",
        "callbacks = [\n",
        " keras.callbacks.ModelCheckpoint(\"jena_dense.keras\",\n",
        " save_best_only=True)\n",
        "]\n",
        "\n",
        "model.compile(optimizer=\"rmsprop\", loss=\"mse\", metrics=[\"mae\"])\n",
        "\n",
        "history = model.fit(train_dataset,\n",
        " epochs=10,\n",
        " validation_data=val_dataset,\n",
        " callbacks=callbacks)\n",
        "\n",
        "model = keras.models.load_model(\"jena_dense.keras\")\n",
        "print(f\"Test MAE: {model.evaluate(test_dataset)[1]:.2f}\")"
      ],
      "metadata": {
        "id": "SuYNC_y8Lw1O",
        "outputId": "c66e2160-0bd6-45e0-8c08-cce18f984bb6",
        "colab": {
          "base_uri": "https://localhost:8080/"
        }
      },
      "execution_count": 40,
      "outputs": [
        {
          "output_type": "stream",
          "name": "stdout",
          "text": [
            "Epoch 1/10\n",
            "819/819 [==============================] - 52s 63ms/step - loss: 12.2966 - mae: 2.7169 - val_loss: 10.2409 - val_mae: 2.5267\n",
            "Epoch 2/10\n",
            "819/819 [==============================] - 52s 64ms/step - loss: 9.1040 - mae: 2.3731 - val_loss: 10.7089 - val_mae: 2.5936\n",
            "Epoch 3/10\n",
            "819/819 [==============================] - 53s 64ms/step - loss: 8.3768 - mae: 2.2792 - val_loss: 10.5093 - val_mae: 2.5625\n",
            "Epoch 4/10\n",
            "819/819 [==============================] - 47s 57ms/step - loss: 7.8484 - mae: 2.2069 - val_loss: 11.2036 - val_mae: 2.6588\n",
            "Epoch 5/10\n",
            "819/819 [==============================] - 45s 55ms/step - loss: 7.4938 - mae: 2.1578 - val_loss: 14.8082 - val_mae: 3.0719\n",
            "Epoch 6/10\n",
            "819/819 [==============================] - 47s 57ms/step - loss: 7.2411 - mae: 2.1228 - val_loss: 11.5956 - val_mae: 2.7119\n",
            "Epoch 7/10\n",
            "819/819 [==============================] - 52s 63ms/step - loss: 7.0654 - mae: 2.0982 - val_loss: 13.8922 - val_mae: 2.9763\n",
            "Epoch 8/10\n",
            "819/819 [==============================] - 52s 63ms/step - loss: 6.8902 - mae: 2.0734 - val_loss: 11.3988 - val_mae: 2.6834\n",
            "Epoch 9/10\n",
            "819/819 [==============================] - 53s 64ms/step - loss: 6.7452 - mae: 2.0508 - val_loss: 13.0943 - val_mae: 2.8767\n",
            "Epoch 10/10\n",
            "819/819 [==============================] - 60s 73ms/step - loss: 6.6414 - mae: 2.0352 - val_loss: 10.8500 - val_mae: 2.6202\n",
            "405/405 [==============================] - 15s 36ms/step - loss: 11.6119 - mae: 2.6769\n",
            "Test MAE: 2.68\n"
          ]
        }
      ]
    },
    {
      "cell_type": "markdown",
      "source": [
        "Plotting results"
      ],
      "metadata": {
        "id": "ozRKSqcfOD4A"
      }
    },
    {
      "cell_type": "code",
      "source": [
        "import matplotlib.pyplot as plt\n",
        "loss = history.history[\"mae\"]\n",
        "val_loss = history.history[\"val_mae\"]\n",
        "epochs = range(1, len(loss) + 1)\n",
        "plt.figure()\n",
        "plt.plot(epochs, loss, \"bo\", label=\"Training MAE\")\n",
        "plt.plot(epochs, val_loss, \"b\", label=\"Validation MAE\")\n",
        "plt.title(\"Training and validation MAE\")\n",
        "plt.legend()\n",
        "plt.show()"
      ],
      "metadata": {
        "id": "0w8YV6aZOA__",
        "outputId": "3651eddf-c034-4398-b10f-cf5eedfaab38",
        "colab": {
          "base_uri": "https://localhost:8080/",
          "height": 452
        }
      },
      "execution_count": 41,
      "outputs": [
        {
          "output_type": "display_data",
          "data": {
            "text/plain": [
              "<Figure size 640x480 with 1 Axes>"
            ],
            "image/png": "[encoded data removed]"
          },
          "metadata": {}
        }
      ]
    }
  ]
}