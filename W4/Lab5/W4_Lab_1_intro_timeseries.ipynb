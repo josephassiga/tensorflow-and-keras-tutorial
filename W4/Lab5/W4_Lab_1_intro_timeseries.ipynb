{
  "nbformat": 4,
  "nbformat_minor": 0,
  "metadata": {
    "colab": {
      "provenance": [],
      "authorship_tag": "ABX9TyOyi0DuX4j8suYutboifWNU",
      "include_colab_link": true
    },
    "kernelspec": {
      "name": "python3",
      "display_name": "Python 3"
    },
    "language_info": {
      "name": "python"
    }
  },
  "cells": [
    {
      "cell_type": "markdown",
      "metadata": {
        "id": "view-in-github",
        "colab_type": "text"
      },
      "source": [
        "<a href=\"https://colab.research.google.com/github/josephassiga/tensorflow-and-keras-tutorial/blob/main/W4/Lab5/W4_Lab_1_intro_timeseries.ipynb\" target=\"_parent\"><img src=\"https://colab.research.google.com/assets/colab-badge.svg\" alt=\"Open In Colab\"/></a>"
      ]
    },
    {
      "cell_type": "markdown",
      "source": [
        "# Differents kinds of timeseries\n",
        "\n",
        "A timeseries can be any data obtained via measurements at regular intervals:\n",
        "*   Daily price of a stock\n",
        "*   The hourly electricity consumption of a city\n",
        "*   Weekly sales of a store\n",
        "\n",
        "The mos common timeseries-related task is *forcasting*: predicting what will happen next in a series.\n",
        "\n",
        "This are the differents use case that we can accomplish with a time series problems:\n",
        "* Classification: Assign one or more categorical to a timeseries. Example given timeseries of the activity of visitor, classify whether the visitor is a bot or a human.\n",
        "* Event detection: Identify the occurence of a specific expected event within a continuous data stream.\n",
        "* Anomaly detection: detect anything unusual happening within a continuous datastream.\n",
        "\n"
      ],
      "metadata": {
        "id": "BjwVLV2j8yb4"
      }
    },
    {
      "cell_type": "markdown",
      "source": [
        "# A temperature forcasting example\n",
        "\n",
        "We’ll use this temperature-forecasting task to highlight what makes timeseries data fundamentally different from the kinds of datasets you’ve encountered so far.\n",
        "\n",
        "You’ll see that densely connected networks and convolutional networks aren’t well-equipped to deal with this kind of dataset, while a different kind of machine learning technique—recurrent neural networks (RNNs)—really shines on this type of problem."
      ],
      "metadata": {
        "id": "s9s0JXP2_ITU"
      }
    },
    {
      "cell_type": "markdown",
      "source": [
        "We’ll work with a weather timeseries dataset recorded at the weather station at the\n",
        "Max Planck Institute for Biogeochemistry in Jena, Germany.1\n",
        " In this dataset, 14 different quantities (such as temperature, pressure, humidity, wind direction, and so on)\n",
        "were recorded every 10 minutes over several years. The original data goes back to\n",
        "2003, but the subset of the data we’ll download is limited to 2009–2016.\n",
        " Let’s start by downloading and uncompressing the data:"
      ],
      "metadata": {
        "id": "89pOFKZlAByd"
      }
    },
    {
      "cell_type": "code",
      "execution_count": 1,
      "metadata": {
        "id": "voCCTZuF7vOr",
        "colab": {
          "base_uri": "https://localhost:8080/"
        },
        "outputId": "12e6e4dd-7cba-42e8-f55e-a4dfd4893718"
      },
      "outputs": [
        {
          "output_type": "stream",
          "name": "stdout",
          "text": [
            "--2024-04-01 00:13:01--  https://s3.amazonaws.com/keras-datasets/jena_climate_2009_2016.csv.zip\n",
            "Resolving s3.amazonaws.com (s3.amazonaws.com)... 16.182.103.112, 52.216.56.136, 52.216.209.72, ...\n",
            "Connecting to s3.amazonaws.com (s3.amazonaws.com)|16.182.103.112|:443... connected.\n",
            "HTTP request sent, awaiting response... 200 OK\n",
            "Length: 13565642 (13M) [application/zip]\n",
            "Saving to: ‘jena_climate_2009_2016.csv.zip’\n",
            "\n",
            "\r          jena_clim   0%[                    ]       0  --.-KB/s               \rjena_climate_2009_2 100%[===================>]  12.94M  --.-KB/s    in 0.09s   \n",
            "\n",
            "2024-04-01 00:13:01 (137 MB/s) - ‘jena_climate_2009_2016.csv.zip’ saved [13565642/13565642]\n",
            "\n",
            "Archive:  jena_climate_2009_2016.csv.zip\n",
            "  inflating: jena_climate_2009_2016.csv  \n",
            "  inflating: __MACOSX/._jena_climate_2009_2016.csv  \n"
          ]
        }
      ],
      "source": [
        "!wget https://s3.amazonaws.com/keras-datasets/jena_climate_2009_2016.csv.zip\n",
        "!unzip jena_climate_2009_2016.csv.zip"
      ]
    }
  ]
}