{
  "nbformat": 4,
  "nbformat_minor": 0,
  "metadata": {
    "colab": {
      "provenance": [],
      "authorship_tag": "ABX9TyNWUO8rd0Ih1TdLwiMJCuzc",
      "include_colab_link": true
    },
    "kernelspec": {
      "name": "python3",
      "display_name": "Python 3"
    },
    "language_info": {
      "name": "python"
    }
  },
  "cells": [
    {
      "cell_type": "markdown",
      "metadata": {
        "id": "view-in-github",
        "colab_type": "text"
      },
      "source": [
        "<a href=\"https://colab.research.google.com/github/josephassiga/tensorflow-and-keras-tutorial/blob/main/W4/Lab5/W4_Lab_4_timeseries_RNN_Dropout.ipynb\" target=\"_parent\"><img src=\"https://colab.research.google.com/assets/colab-badge.svg\" alt=\"Open In Colab\"/></a>"
      ]
    },
    {
      "cell_type": "markdown",
      "source": [
        "# Using recurrent dropout to fight overfitting\n",
        "\n",
        "\n",
        "\n"
      ],
      "metadata": {
        "id": "BjwVLV2j8yb4"
      }
    },
    {
      "cell_type": "markdown",
      "source": [
        "There’s a family of neural network architectures designed specifically for this use\n",
        "case: recurrent neural networks. Among them, the Long Short Term Memory (LSTM)\n",
        "layer has long been very popular. We’ll see in a minute how these models work, but\n",
        "let’s start by giving the LSTM layer a try"
      ],
      "metadata": {
        "id": "89pOFKZlAByd"
      }
    },
    {
      "cell_type": "code",
      "source": [
        "from tensorflow import keras\n",
        "from tensorflow.keras import layers"
      ],
      "metadata": {
        "id": "1a_xztRmY2Ka"
      },
      "execution_count": 16,
      "outputs": []
    },
    {
      "cell_type": "code",
      "execution_count": 17,
      "metadata": {
        "id": "voCCTZuF7vOr",
        "colab": {
          "base_uri": "https://localhost:8080/"
        },
        "outputId": "c8d7ab5b-6c42-42f1-a55f-fc365bd0d73e"
      },
      "outputs": [
        {
          "output_type": "stream",
          "name": "stdout",
          "text": [
            "--2024-04-01 08:54:13--  https://s3.amazonaws.com/keras-datasets/jena_climate_2009_2016.csv.zip\n",
            "Resolving s3.amazonaws.com (s3.amazonaws.com)... 52.217.193.224, 52.217.41.30, 16.182.36.160, ...\n",
            "Connecting to s3.amazonaws.com (s3.amazonaws.com)|52.217.193.224|:443... connected.\n",
            "HTTP request sent, awaiting response... 200 OK\n",
            "Length: 13565642 (13M) [application/zip]\n",
            "Saving to: ‘jena_climate_2009_2016.csv.zip.2’\n",
            "\n",
            "jena_climate_2009_2 100%[===================>]  12.94M  13.7MB/s    in 0.9s    \n",
            "\n",
            "2024-04-01 08:54:15 (13.7 MB/s) - ‘jena_climate_2009_2016.csv.zip.2’ saved [13565642/13565642]\n",
            "\n",
            "Archive:  jena_climate_2009_2016.csv.zip\n",
            "replace jena_climate_2009_2016.csv? [y]es, [n]o, [A]ll, [N]one, [r]ename: "
          ]
        }
      ],
      "source": [
        "!wget https://s3.amazonaws.com/keras-datasets/jena_climate_2009_2016.csv.zip\n",
        "!unzip jena_climate_2009_2016.csv.zip"
      ]
    },
    {
      "cell_type": "markdown",
      "source": [
        "Now inspecting the data of the Jena weather dataset"
      ],
      "metadata": {
        "id": "b7qMN9hXBPMm"
      }
    },
    {
      "cell_type": "code",
      "source": [
        "import os\n",
        "\n",
        "filename = os.path.join(\"jena_climate_2009_2016.csv\")\n",
        "\n",
        "with open(filename) as f:\n",
        "  data = f.read()\n",
        "\n",
        "# Retrieve all the content of the file.\n",
        "lines = data.split(\"\\n\")\n",
        "# Get the header of the file.\n",
        "header = lines[0].split(\",\")\n",
        "# Get other line execpt the header line.\n",
        "lines = lines[1:]\n",
        "print(f\"Header : {header}\")\n",
        "print(f\"Size of the file : {len(lines)}\")\n",
        "print(lines[0].split(\",\")[:])"
      ],
      "metadata": {
        "id": "FjUQyZAGBV4H",
        "outputId": "967524fa-45d4-46fa-d231-a42e22395b01",
        "colab": {
          "base_uri": "https://localhost:8080/"
        }
      },
      "execution_count": 18,
      "outputs": [
        {
          "output_type": "stream",
          "name": "stdout",
          "text": [
            "Header : ['\"Date Time\"', '\"p (mbar)\"', '\"T (degC)\"', '\"Tpot (K)\"', '\"Tdew (degC)\"', '\"rh (%)\"', '\"VPmax (mbar)\"', '\"VPact (mbar)\"', '\"VPdef (mbar)\"', '\"sh (g/kg)\"', '\"H2OC (mmol/mol)\"', '\"rho (g/m**3)\"', '\"wv (m/s)\"', '\"max. wv (m/s)\"', '\"wd (deg)\"']\n",
            "Size of the file : 420451\n",
            "['01.01.2009 00:10:00', '996.52', '-8.02', '265.40', '-8.90', '93.30', '3.33', '3.11', '0.22', '1.94', '3.12', '1307.75', '1.03', '1.75', '152.30']\n"
          ]
        }
      ]
    },
    {
      "cell_type": "markdown",
      "source": [
        "# Parsing the data"
      ],
      "metadata": {
        "id": "GYPeSgRoCbJW"
      }
    },
    {
      "cell_type": "code",
      "source": [
        "import numpy as np\n",
        "from matplotlib import pyplot as plt\n",
        "\n",
        "temperature = np.zeros(len(lines))\n",
        "raw_data = np.zeros((len(lines), len(header) - 1))\n",
        "for i, line in enumerate(lines):\n",
        "  # For each line, i will only take data exacpt the Date Time\n",
        "  values = [float(x) for x in line.split(\",\")[1:]]\n",
        "  # We store column 1 in the temperature array\n",
        "  temperature[i] = values[1]\n",
        "  # We store all columns(including the temperature) in the raw_data\n",
        "  raw_data[i,:] = values[:]\n",
        "\n",
        "print(raw_data.shape)\n",
        "plt.plot(range(len(temperature)), temperature)"
      ],
      "metadata": {
        "colab": {
          "base_uri": "https://localhost:8080/",
          "height": 469
        },
        "id": "PN9CGPuSCer_",
        "outputId": "25d0a34d-41a4-486b-dc0c-44369b62d232"
      },
      "execution_count": 21,
      "outputs": [
        {
          "output_type": "stream",
          "name": "stdout",
          "text": [
            "(420451, 14)\n"
          ]
        },
        {
          "output_type": "execute_result",
          "data": {
            "text/plain": [
              "[<matplotlib.lines.Line2D at 0x7e553468fca0>]"
            ]
          },
          "metadata": {},
          "execution_count": 21
        },
        {
          "output_type": "display_data",
          "data": {
            "text/plain": [
              "<Figure size 640x480 with 1 Axes>"
            ],
            "image/png": "[encoded data removed]"
          },
          "metadata": {}
        }
      ]
    },
    {
      "cell_type": "markdown",
      "source": [
        "Computing the number of samples we’ll use for each data split"
      ],
      "metadata": {
        "id": "XoddzB6LEjIX"
      }
    },
    {
      "cell_type": "code",
      "source": [
        "num_train_samples = int(0.5 * len(raw_data))\n",
        "num_val_samples = int(0.25 * len(raw_data))\n",
        "num_test_samples = len(raw_data) - num_train_samples - num_val_samples\n",
        "\n",
        "print(\"num_train_samples:\", num_train_samples)\n",
        "print(\"num_val_samples:\", num_val_samples)\n",
        "print(\"num_test_samples:\", num_test_samples)"
      ],
      "metadata": {
        "colab": {
          "base_uri": "https://localhost:8080/"
        },
        "id": "jZ6x--p_Em1Z",
        "outputId": "2aabf5c6-bf7c-460d-f517-4d10e2602ab6"
      },
      "execution_count": 24,
      "outputs": [
        {
          "output_type": "stream",
          "name": "stdout",
          "text": [
            "num_train_samples: 210225\n",
            "num_val_samples: 105112\n",
            "num_test_samples: 105114\n"
          ]
        }
      ]
    },
    {
      "cell_type": "markdown",
      "source": [
        "# Preparing the data\n",
        "The exact formulation of the problem will be as follows: given data covering the previous five days and sampled once per hour, can we predict the temperature in 24 hours?\n",
        "\n",
        " First, let’s preprocess the data to a format a neural network can ingest. This is\n",
        "easy: the data is already numerical, so you don’t need to do any vectorization. But\n",
        "each timeseries in the data is on a different scale (for example, atmospheric pressure, measured in mbar, is around 1,000, while H2OC, measured in millimoles per\n",
        "mole, is around 3). We’ll normalize each timeseries independently so that they all\n",
        "take small values on a similar scale. We’re going to use the first 210,225 timesteps as\n",
        "training data, so we’ll compute the mean and standard deviation only on this fraction of the data\n"
      ],
      "metadata": {
        "id": "lFbB9xYlE6uP"
      }
    },
    {
      "cell_type": "code",
      "source": [
        "mean = raw_data[:num_train_samples].mean(axis=0)\n",
        "raw_data -= mean\n",
        "std = raw_data[:num_train_samples].std(axis=0)\n",
        "raw_data /= std"
      ],
      "metadata": {
        "id": "f_R140tBFAfz"
      },
      "execution_count": 25,
      "outputs": []
    },
    {
      "cell_type": "markdown",
      "source": [
        "Instantiating datasets for training, validation and testing"
      ],
      "metadata": {
        "id": "vBwK1MzHK1_n"
      }
    },
    {
      "cell_type": "code",
      "source": [
        "from tensorflow import keras\n",
        "\n",
        "sampling_rate = 6\n",
        "sequence_length = 120\n",
        "delay = sampling_rate * (sequence_length + 24 - 1)\n",
        "batch_size = 256\n",
        "\n",
        "train_dataset = keras.utils.timeseries_dataset_from_array(\n",
        " raw_data[:-delay],\n",
        " targets=temperature[delay:],\n",
        " sampling_rate=sampling_rate,\n",
        " sequence_length=sequence_length,\n",
        " shuffle=True,\n",
        " batch_size=batch_size,\n",
        " start_index=0,\n",
        " end_index=num_train_samples)\n",
        "\n",
        "val_dataset = keras.utils.timeseries_dataset_from_array(\n",
        " raw_data[:-delay],\n",
        " targets=temperature[delay:],\n",
        " sampling_rate=sampling_rate,\n",
        " sequence_length=sequence_length,\n",
        " shuffle=True,\n",
        " batch_size=batch_size,\n",
        " start_index=num_train_samples,\n",
        " end_index=num_train_samples + num_val_samples)\n",
        "\n",
        "test_dataset = keras.utils.timeseries_dataset_from_array(\n",
        " raw_data[:-delay],\n",
        " targets=temperature[delay:],\n",
        " sampling_rate=sampling_rate,\n",
        " sequence_length=sequence_length,\n",
        " shuffle=True,\n",
        " batch_size=batch_size,\n",
        " start_index=num_train_samples + num_val_samples)\n",
        "\n",
        "for samples, targets in train_dataset:\n",
        "    print(\"samples shape:\", samples.shape)\n",
        "    print(\"targets shape:\", targets.shape)\n",
        "    break"
      ],
      "metadata": {
        "colab": {
          "base_uri": "https://localhost:8080/"
        },
        "id": "IYDASWTjK7NK",
        "outputId": "ae7c3d73-d42d-4ed0-8a44-781b353e0810"
      },
      "execution_count": 23,
      "outputs": [
        {
          "output_type": "stream",
          "name": "stdout",
          "text": [
            "samples shape: (256, 120, 14)\n",
            "targets shape: (256,)\n"
          ]
        }
      ]
    },
    {
      "cell_type": "markdown",
      "source": [
        "Create a model with Sequencial API"
      ],
      "metadata": {
        "id": "HnYMivi-V_ka"
      }
    },
    {
      "cell_type": "code",
      "source": [
        "model = keras.Sequential([\n",
        "    #RNN\n",
        "    keras.layers.LSTM(32, recurrent_dropout=0.25, input_shape=(sequence_length, raw_data.shape[-1])),\n",
        "    keras.layers.Dropout(0.5),\n",
        "\n",
        "    #DNN\n",
        "    keras.layers.Dense(1)\n",
        "])\n",
        "\n",
        "\n",
        "model.summary()\n"
      ],
      "metadata": {
        "id": "UNRezz90V9xF",
        "outputId": "560413b5-3e6f-4892-dbdb-c85360963c9e",
        "colab": {
          "base_uri": "https://localhost:8080/"
        }
      },
      "execution_count": null,
      "outputs": [
        {
          "output_type": "stream",
          "name": "stdout",
          "text": [
            "Model: \"sequential\"\n",
            "_________________________________________________________________\n",
            " Layer (type)                Output Shape              Param #   \n",
            "=================================================================\n",
            " lstm_1 (LSTM)               (None, 32)                6016      \n",
            "                                                                 \n",
            " dropout_1 (Dropout)         (None, 32)                0         \n",
            "                                                                 \n",
            " dense_1 (Dense)             (None, 1)                 33        \n",
            "                                                                 \n",
            "=================================================================\n",
            "Total params: 6049 (23.63 KB)\n",
            "Trainable params: 6049 (23.63 KB)\n",
            "Non-trainable params: 0 (0.00 Byte)\n",
            "_________________________________________________________________\n"
          ]
        }
      ]
    },
    {
      "cell_type": "markdown",
      "source": [
        "Create Model with Funcctional API"
      ],
      "metadata": {
        "id": "vpQbqU73WTUP"
      }
    },
    {
      "cell_type": "code",
      "source": [
        "inputs = keras.Input(shape=(sequence_length, raw_data.shape[-1]))\n",
        "x = layers.LSTM(32, recurrent_dropout=0.25)(inputs)\n",
        "x = layers.Dropout(0.5)(x)\n",
        "outputs = layers.Dense(1)(x)\n",
        "model = keras.Model(inputs, outputs)\n",
        "\n",
        "model.summary()"
      ],
      "metadata": {
        "id": "hh_vPbRkWWJb",
        "outputId": "bd4b361b-81fa-49f0-bd31-ff32f0c44ce6",
        "colab": {
          "base_uri": "https://localhost:8080/"
        }
      },
      "execution_count": null,
      "outputs": [
        {
          "output_type": "stream",
          "name": "stdout",
          "text": [
            "Model: \"model_1\"\n",
            "_________________________________________________________________\n",
            " Layer (type)                Output Shape              Param #   \n",
            "=================================================================\n",
            " input_2 (InputLayer)        [(None, 120, 14)]         0         \n",
            "                                                                 \n",
            " lstm_2 (LSTM)               (None, 32)                6016      \n",
            "                                                                 \n",
            " dropout_2 (Dropout)         (None, 32)                0         \n",
            "                                                                 \n",
            " dense_2 (Dense)             (None, 1)                 33        \n",
            "                                                                 \n",
            "=================================================================\n",
            "Total params: 6049 (23.63 KB)\n",
            "Trainable params: 6049 (23.63 KB)\n",
            "Non-trainable params: 0 (0.00 Byte)\n",
            "_________________________________________________________________\n"
          ]
        }
      ]
    },
    {
      "cell_type": "markdown",
      "source": [
        "Training and evaluating a densely connected model"
      ],
      "metadata": {
        "id": "mx--tXgALscD"
      }
    },
    {
      "cell_type": "code",
      "source": [
        "callbacks = [\n",
        " keras.callbacks.ModelCheckpoint(\"jena_lstm_dropout.keras\",\n",
        " save_best_only=True)\n",
        "]\n",
        "\n",
        "model.compile(optimizer=\"rmsprop\", loss=\"mse\", metrics=[\"mae\"])\n",
        "\n",
        "history = model.fit(train_dataset,\n",
        " epochs=10,\n",
        " validation_data=val_dataset,\n",
        " callbacks=callbacks)\n",
        "\n",
        "model = keras.models.load_model(\"jena_lstm_dropout.keras\")\n",
        "print(f\"Test MAE: {model.evaluate(test_dataset)[1]:.2f}\")"
      ],
      "metadata": {
        "colab": {
          "base_uri": "https://localhost:8080/"
        },
        "id": "SuYNC_y8Lw1O",
        "outputId": "2a2c00cb-c47b-4abd-b7c2-1451b3399627"
      },
      "execution_count": null,
      "outputs": [
        {
          "output_type": "stream",
          "name": "stdout",
          "text": [
            "Epoch 1/10\n",
            "819/819 [==============================] - 205s 247ms/step - loss: 27.2737 - mae: 3.8530 - val_loss: 9.6417 - val_mae: 2.4113\n",
            "Epoch 2/10\n",
            "819/819 [==============================] - 218s 266ms/step - loss: 14.7631 - mae: 2.9840 - val_loss: 9.3473 - val_mae: 2.3759\n",
            "Epoch 3/10\n",
            "819/819 [==============================] - 204s 249ms/step - loss: 13.9028 - mae: 2.8933 - val_loss: 9.5465 - val_mae: 2.4106\n",
            "Epoch 4/10\n",
            "819/819 [==============================] - 203s 248ms/step - loss: 13.3499 - mae: 2.8334 - val_loss: 9.2814 - val_mae: 2.3656\n",
            "Epoch 5/10\n",
            "819/819 [==============================] - 218s 266ms/step - loss: 12.8256 - mae: 2.7766 - val_loss: 9.3731 - val_mae: 2.3754\n",
            "Epoch 6/10\n",
            "819/819 [==============================] - 205s 250ms/step - loss: 12.4417 - mae: 2.7337 - val_loss: 9.2956 - val_mae: 2.3627\n",
            "Epoch 7/10\n",
            "819/819 [==============================] - 218s 265ms/step - loss: 12.1272 - mae: 2.7014 - val_loss: 9.3668 - val_mae: 2.3737\n",
            "Epoch 8/10\n",
            "819/819 [==============================] - 217s 265ms/step - loss: 11.8960 - mae: 2.6736 - val_loss: 9.4854 - val_mae: 2.3874\n",
            "Epoch 9/10\n",
            "819/819 [==============================] - 216s 264ms/step - loss: 11.7276 - mae: 2.6559 - val_loss: 9.5233 - val_mae: 2.3882\n",
            "Epoch 10/10\n",
            "819/819 [==============================] - 204s 248ms/step - loss: 11.4341 - mae: 2.6226 - val_loss: 9.4877 - val_mae: 2.3850\n",
            "405/405 [==============================] - 31s 76ms/step - loss: 10.7206 - mae: 2.5991\n",
            "Test MAE: 2.60\n"
          ]
        }
      ]
    },
    {
      "cell_type": "markdown",
      "source": [
        "Plotting results"
      ],
      "metadata": {
        "id": "ozRKSqcfOD4A"
      }
    },
    {
      "cell_type": "code",
      "source": [
        "import matplotlib.pyplot as plt\n",
        "loss = history.history[\"mae\"]\n",
        "val_loss = history.history[\"val_mae\"]\n",
        "epochs = range(1, len(loss) + 1)\n",
        "plt.figure()\n",
        "plt.plot(epochs, loss, \"bo\", label=\"Training MAE\")\n",
        "plt.plot(epochs, val_loss, \"b\", label=\"Validation MAE\")\n",
        "plt.title(\"Training and validation MAE\")\n",
        "plt.legend()\n",
        "plt.show()"
      ],
      "metadata": {
        "colab": {
          "base_uri": "https://localhost:8080/",
          "height": 452
        },
        "id": "0w8YV6aZOA__",
        "outputId": "8cca1447-1c1a-496d-fc23-2082daea7371"
      },
      "execution_count": null,
      "outputs": [
        {
          "output_type": "display_data",
          "data": {
            "text/plain": [
              "<Figure size 640x480 with 1 Axes>"
            ],
            "image/png": "[encoded data removed]"
          },
          "metadata": {}
        }
      ]
    },
    {
      "cell_type": "markdown",
      "source": [
        "A major characteristic of all neural networks you’ve seen so far, such as densely connected networks and convnets, is that they have no memory. Each input shown to\n",
        "them is processed independently, with no state kept between inputs"
      ],
      "metadata": {
        "id": "yCcNRdj2mFPS"
      }
    },
    {
      "cell_type": "markdown",
      "source": [
        "# Stacking recurrent layers"
      ],
      "metadata": {
        "id": "0ChdbGnkc8-d"
      }
    },
    {
      "cell_type": "code",
      "source": [
        "inputs = keras.Input(shape=(sequence_length, raw_data.shape[-1]))\n",
        "x = layers.GRU(32, recurrent_dropout=0.5, return_sequences=True)(inputs)\n",
        "x = layers.GRU(32, recurrent_dropout=0.5)(x)\n",
        "x = layers.Dropout(0.5)(x)\n",
        "outputs = layers.Dense(1)(x)\n",
        "\n",
        "model = keras.Model(inputs, outputs)\n",
        "callbacks = [\n",
        " keras.callbacks.ModelCheckpoint(\"jena_stacked_gru_dropout.keras\",\n",
        " save_best_only=True)\n",
        "]\n",
        "\n",
        "model.compile(optimizer=\"rmsprop\", loss=\"mse\", metrics=[\"mae\"])\n",
        "\n",
        "history = model.fit(train_dataset,\n",
        " epochs=50,\n",
        " validation_data=val_dataset,\n",
        " callbacks=callbacks)\n",
        "\n",
        "model = keras.models.load_model(\"jena_stacked_gru_dropout.keras\")\n",
        "\n",
        "print(f\"Test MAE: {model.evaluate(test_dataset)[1]:.2f}\")"
      ],
      "metadata": {
        "id": "yS0AAnScdBxa",
        "outputId": "2a84a898-0615-46f8-ff74-6f4e9e51a645",
        "colab": {
          "base_uri": "https://localhost:8080/"
        }
      },
      "execution_count": null,
      "outputs": [
        {
          "output_type": "stream",
          "name": "stdout",
          "text": [
            "Epoch 1/50\n",
            "819/819 [==============================] - 411s 495ms/step - loss: 31.1515 - mae: 4.2452 - val_loss: 15.6707 - val_mae: 3.0900\n",
            "Epoch 2/50\n",
            "819/819 [==============================] - 432s 527ms/step - loss: 19.1720 - mae: 3.4344 - val_loss: 12.8650 - val_mae: 2.8173\n",
            "Epoch 3/50\n",
            "819/819 [==============================] - ETA: 0s - loss: 18.2423 - mae: 3.3470"
          ]
        }
      ]
    },
    {
      "cell_type": "code",
      "source": [
        "import matplotlib.pyplot as plt\n",
        "loss = history.history[\"mae\"]\n",
        "val_loss = history.history[\"val_mae\"]\n",
        "epochs = range(1, len(loss) + 1)\n",
        "plt.figure()\n",
        "plt.plot(epochs, loss, \"bo\", label=\"Training MAE\")\n",
        "plt.plot(epochs, val_loss, \"b\", label=\"Validation MAE\")\n",
        "plt.title(\"Training and validation MAE\")\n",
        "plt.legend()\n",
        "plt.show()"
      ],
      "metadata": {
        "id": "kLJv3hbmeDq3"
      },
      "execution_count": null,
      "outputs": []
    },
    {
      "cell_type": "markdown",
      "source": [
        "# Using bidirentional RNNs\n",
        "\n",
        "A bidirectional\n",
        "RNN is a common RNN variant that can offer greater performance than a regular\n",
        "RNN on certain tasks. It’s frequently used in natural language processing—you could\n",
        "call it the Swiss Army knife of deep learning for natural language processing\n",
        "\n",
        "A bidirectional RNN exploits the order sensitivity of RNNs: it uses two regular RNNs, such as the GRU and LSTM layers you’re already familiar with,\n",
        "each of which processes the input sequence in one direction (chronologically and\n",
        "antichronologically), and then merges their representations. By processing a sequence\n",
        "both ways, a bidirectional RNN can catch patterns that may be overlooked by a unidirectional RNN."
      ],
      "metadata": {
        "id": "zPevERpxeF3G"
      }
    },
    {
      "cell_type": "code",
      "source": [
        "inputs = keras.Input(shape=(sequence_length, raw_data.shape[-1]))\n",
        "x = layers.Bidirectional(layers.LSTM(16))(inputs)\n",
        "outputs = layers.Dense(1)(x)\n",
        "model = keras.Model(inputs, outputs)\n",
        "\n",
        "callbacks = [\n",
        " keras.callbacks.ModelCheckpoint(\"jena_bidirectional.keras\",\n",
        " save_best_only=True)\n",
        "]\n",
        "\n",
        "model.compile(optimizer=\"rmsprop\", loss=\"mse\", metrics=[\"mae\"])\n",
        "\n",
        "history = model.fit(train_dataset,\n",
        " epochs=10,\n",
        " validation_data=val_dataset,\n",
        " callbacks=callbacks)\n",
        "\n",
        "\n",
        "model = keras.models.load_model(\"jena_bidirectional.keras\")\n",
        "\n",
        "print(f\"Test MAE: {model.evaluate(test_dataset)[1]:.2f}\")"
      ],
      "metadata": {
        "id": "3KqhJsJ9eJsN"
      },
      "execution_count": null,
      "outputs": []
    }
  ]
}